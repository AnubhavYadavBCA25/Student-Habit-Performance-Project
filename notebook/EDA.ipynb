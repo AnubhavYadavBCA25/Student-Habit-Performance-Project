{
 "cells": [
  {
   "cell_type": "markdown",
   "id": "d013c86e",
   "metadata": {},
   "source": [
    "## Student Habit vs Academic Performance EDA\n",
    "\n",
    "- This is a simulated dataset exploring how lifestyle habits affect academic performance in students. With 1,000 synthetic student records and 15+ features including study hours, sleep patterns, social media usage, diet quality, mental health, and final exam scores.\n",
    "- Ever wondered how much Netflix, sleep, or TikTok scrolling affects your grades? This dataset simulates 1,000 students' daily habits—from study time to mental health—and compares them to final exam scores. It's like spying on your GPA through the lens of lifestyle.\n",
    "\n",
    "### Dataset Features Description\n",
    "| Feature Name                    | Description (Short)                                               |\n",
    "|--------------------------------|-------------------------------------------------------------------|\n",
    "| student_id                     | Unique ID assigned to each student                               |\n",
    "| age                            | Age of the student (in years)                                    |\n",
    "| gender                         | Gender of the student (Male/Female)                              |\n",
    "| study_hours_per_day            | Avg. number of hours spent studying daily                        |\n",
    "| social_media_hours             | Daily usage time on social media (in hours)                      |\n",
    "| netflix_hours                  | Daily time spent watching Netflix or similar platforms           |\n",
    "| part_time_job                  | Whether the student has a part-time job (Yes/No)                 |\n",
    "| attendance_percentage          | Class attendance percentage                                      |\n",
    "| sleep_hours                    | Average sleep duration per day (in hours)                        |\n",
    "| diet_quality                   | Quality of diet (Poor/Fair/Good)                                 |\n",
    "| exercise_frequency             | Days per week the student does exercise                          |\n",
    "| parental_education_level       | Highest education level of the student's parents                 |\n",
    "| internet_quality               | Quality of internet connection (Poor/Average/Good)               |\n",
    "| mental_health_rating           | Mental health score (1-10 scale, 10 = best)                      |\n",
    "| extracurricular_participation  | Participation in extracurricular activities (Yes/No)             |\n",
    "| exam_score                     | Final exam score (target variable)                               |\n"
   ]
  },
  {
   "cell_type": "markdown",
   "id": "1df24da4",
   "metadata": {},
   "source": [
    "#### (1.) Import Required Libraries"
   ]
  },
  {
   "cell_type": "code",
   "execution_count": 2,
   "id": "8ac6b4e8",
   "metadata": {},
   "outputs": [],
   "source": [
    "import pandas as pd\n",
    "import numpy as np\n",
    "import matplotlib.pyplot as plt\n",
    "import seaborn as sns\n",
    "import warnings\n",
    "warnings.filterwarnings(\"ignore\")\n",
    "%matplotlib inline\n",
    "plt.style.use('ggplot')"
   ]
  },
  {
   "cell_type": "code",
   "execution_count": null,
   "id": "a39c4341",
   "metadata": {},
   "outputs": [],
   "source": []
  }
 ],
 "metadata": {
  "kernelspec": {
   "display_name": "Python 3",
   "language": "python",
   "name": "python3"
  },
  "language_info": {
   "codemirror_mode": {
    "name": "ipython",
    "version": 3
   },
   "file_extension": ".py",
   "mimetype": "text/x-python",
   "name": "python",
   "nbconvert_exporter": "python",
   "pygments_lexer": "ipython3",
   "version": "3.12.0"
  }
 },
 "nbformat": 4,
 "nbformat_minor": 5
}
